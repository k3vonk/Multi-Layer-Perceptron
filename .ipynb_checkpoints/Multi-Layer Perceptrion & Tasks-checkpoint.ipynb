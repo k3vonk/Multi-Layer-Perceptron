{
 "cells": [
  {
   "cell_type": "markdown",
   "metadata": {
    "colab_type": "text",
    "id": "QOG1OcHRi_VZ"
   },
   "source": [
    "# Multi Layer Perceptron\n",
    "\n",
    "An MLP created by Ga Jun Young, 16440714\n",
    "\n",
    "Supports 3 cases:\n",
    "1. Learning XOR function\n",
    "2. Learning Sin function\n",
    "3. Letter recognition using the dataset provided by UCI Machine Learning Repository: http://archive.ics.uci.edu/ml/datasets/Letter+Recognition\n",
    "\n"
   ]
  },
  {
   "cell_type": "markdown",
   "metadata": {
    "colab_type": "text",
    "id": "UK5SZTB6jFGF"
   },
   "source": [
    "## `Import libraries`"
   ]
  },
  {
   "cell_type": "code",
   "execution_count": 0,
   "metadata": {
    "colab": {},
    "colab_type": "code",
    "id": "i2oJjVSli8r8"
   },
   "outputs": [],
   "source": [
    "__author__ = 'Ga Jun Young - 16440714'\n",
    "\n",
    "import numpy as np\n",
    "import matplotlib.pyplot as plt\n",
    "import csv\n",
    "import warnings\n",
    "np.random.seed(2020)\n",
    "warnings.filterwarnings('ignore')"
   ]
  },
  {
   "cell_type": "markdown",
   "metadata": {
    "colab_type": "text",
    "id": "pmXP_MKHjPoy"
   },
   "source": [
    "## `1. Setup activation and activation derivative functions`"
   ]
  },
  {
   "cell_type": "code",
   "execution_count": 0,
   "metadata": {
    "colab": {},
    "colab_type": "code",
    "id": "ttRSUn_Ukk17"
   },
   "outputs": [],
   "source": [
    "def sigmoid(Z):\n",
    "  \"\"\"\n",
    "  Sigmoid forward activation\n",
    "  :param Z: linear activation\n",
    "  :return: sigmoid activation output of Z\n",
    "  \"\"\"\n",
    "  return 1 / (1 + np.exp(-Z))\n",
    "\n",
    "def sigmoid_derivative(A):\n",
    "  \"\"\"\n",
    "  Sigmoid derivative\n",
    "  :param A: gradient of loss with respect to activation\n",
    "  :return: sigmoid gradient loss\n",
    "  \"\"\"\n",
    "  return A * (1 - A)\n",
    "\n",
    "def tanh(Z):\n",
    "  \"\"\"\n",
    "  Tanh forward activation\n",
    "  :param Z: linear activation\n",
    "  :return: tanh activation output of Z\n",
    "  \"\"\"\n",
    "  return np.tanh(Z)\n",
    "\n",
    "def tanh_derivative(A):\n",
    "  \"\"\"\n",
    "  Tanh derivative\n",
    "  :param A: gradient of loss with respect to activation\n",
    "  :return: tanh gradient loss\n",
    "  \"\"\"\n",
    "  return 1.0 - A**2\n",
    "\n",
    "def linear(Z):\n",
    "  \"\"\"\n",
    "  Identity Activation\n",
    "  :param Z: linear activation\n",
    "  :return: same value as input Z\n",
    "  \"\"\"\n",
    "  return Z\n",
    "\n",
    "def linear_derivative(A):\n",
    "  \"\"\"\n",
    "  Linear derivative\n",
    "  :param A: gradient of loss with respect to activation\n",
    "  :return: same value as input A\n",
    "  \"\"\"\n",
    "  return A\n",
    "\n",
    "def softmax(Z):\n",
    "  \"\"\"\n",
    "  Softmax activation of vector Z\n",
    "  :param Z: linear activation\n",
    "  :return: softmax activation output of Z\n",
    "  \"\"\"\n",
    "  exps = np.exp(Z - np.max(Z))\n",
    "  return exps / np.sum(exps)\n",
    "\n",
    "def softmax_derivative(A):\n",
    "  \"\"\"\n",
    "  Softmax derivative\n",
    "  :param A: gradient of loss with respect to activation\n",
    "  :return: softmax gradient loss\n",
    "  \"\"\"\n",
    "  return softmax(A) * (1 - softmax(A))"
   ]
  },
  {
   "cell_type": "markdown",
   "metadata": {
    "colab_type": "text",
    "id": "2RDm6oTfjSw5"
   },
   "source": [
    "## `2. Setup loss functions`"
   ]
  },
  {
   "cell_type": "code",
   "execution_count": 0,
   "metadata": {
    "colab": {},
    "colab_type": "code",
    "id": "eooR8oc5liXt"
   },
   "outputs": [],
   "source": [
    "def squared_error(Y_hat, Y):\n",
    "  \"\"\"\n",
    "  Calculate squared error between predicted and actual output\n",
    "  :param Y_hat: predicted output\n",
    "  :param Y: expected output\n",
    "  :return: The square error loss\n",
    "  \"\"\"\n",
    "  return 0.5 * np.sum((Y_hat - Y) ** 2)\n",
    "\n",
    "def cross_entropy(Y_hat, Y):\n",
    "  \"\"\"\n",
    "  Calculate cross entropy between predicted and actual output\n",
    "  :param Y_hat: predicted output\n",
    "  :param Y: expected output\n",
    "  :return: The cross entropy\n",
    "  \"\"\"\n",
    "  return -np.sum(np.nan_to_num((Y * np.log(Y_hat)) + ((1-Y) * np.log(1-Y_hat))))"
   ]
  },
  {
   "cell_type": "markdown",
   "metadata": {
    "colab_type": "text",
    "id": "W2nc_HoBjVw8"
   },
   "source": [
    "## `3. Setup generic MLP Model`"
   ]
  },
  {
   "cell_type": "code",
   "execution_count": 0,
   "metadata": {
    "colab": {},
    "colab_type": "code",
    "id": "RUMlB-KMjJ6k"
   },
   "outputs": [],
   "source": [
    "class MLP:\n",
    "  def __init__(self, n_i, n_h, n_o, learning_rate=0.1, epochs=3000, activation='Sigmoid', output_activation='Sigmoid', verbose=False):\n",
    "    \"\"\"\n",
    "    Initialize neural network\n",
    "    :param n_i: number of units in the input layer\n",
    "    :param n_h: number of units in the hidden layer\n",
    "    :param n_o: number of units in the output layer\n",
    "    :param learning_rate: learning rate of the gradient descent (hyperparameter)\n",
    "    :param epochs: number of iteration updates through dataset for training (hyperparameter)\n",
    "    :param activation: string ('Tanh' or 'Sigmoid') activation for layer\n",
    "    :param output_activation:  string ('Linear' or 'Sigmoid') activation for output layer\n",
    "    :param verbose: boolean to check if we want to print outputs\n",
    "    \"\"\"\n",
    "    self.n_i = n_i\n",
    "    self.n_h = n_h\n",
    "    self.n_o = n_o\n",
    "    self.learning_rate = learning_rate\n",
    "    self.epochs = epochs\n",
    "    self.verbose = verbose\n",
    "    self.output_type = output_activation\n",
    "\n",
    "    # init activation functions & loss function\n",
    "    self.activation, self.activation_d = self.init_activation_func(activation)\n",
    "    self.out_activation, self.out_activation_d = self.init_activation_func(output_activation)\n",
    "    self.loss_func = self.init_loss_func()\n",
    "\n",
    "    # init layers, weights\n",
    "    self.I = np.ones(n_i + 1) # + 1 bias\n",
    "    self.H = np.ones(n_h)\n",
    "    self.O = np.ones(n_o)\n",
    "    self.randomize()\n",
    "\n",
    "  def init_activation_func(self, activation):\n",
    "    \"\"\"\n",
    "    :param activation: string input to use the correct activation for layer\n",
    "    :return: The assigned activation and activation derivative\n",
    "    \"\"\"\n",
    "    if activation == 'Tanh':\n",
    "      return tanh, tanh_derivative\n",
    "    elif activation == 'Softmax':\n",
    "      return softmax, softmax_derivative\n",
    "    elif activation == 'Linear':\n",
    "      return linear, linear_derivative\n",
    "    else:\n",
    "      return sigmoid, sigmoid_derivative\n",
    "\n",
    "  def init_loss_func(self):\n",
    "    \"\"\"\n",
    "    :return: return the loss function based on number of outputs\n",
    "    \"\"\"\n",
    "    if self.n_o > 1: # if the output > 1 then it is a classification problem\n",
    "      return cross_entropy\n",
    "    return squared_error # else regression problem\n",
    "  \n",
    "  def randomize(self):\n",
    "    \"\"\"\n",
    "    Initialize weights and delta weights\n",
    "    \"\"\"\n",
    "    # He init optimizes model\n",
    "    self.W1 = np.random.randn(self.I.size, self.n_h) * np.sqrt(2 / self.I.size)\n",
    "    self.W2 = np.random.randn(self.n_h, self.n_o) * np.sqrt(2 / self.n_h)\n",
    "    self.dW1 = np.zeros((self.W1.shape))\n",
    "    self.dW2 = np.zeros((self.W2.shape))\n",
    "\n",
    "  def forward(self, I):\n",
    "    \"\"\"\n",
    "    Compute the layer activations\n",
    "    :param I: inputs\n",
    "    :return O: final layer output (activation value)\n",
    "    \"\"\"\n",
    "\n",
    "    # Hidden layer \n",
    "    self.I[:-1] = I # the last index is a bias, therefore we do not overwrite that bit\n",
    "    Z1 = self.I @ self.W1\n",
    "    self.H = self.activation(Z1)\n",
    "\n",
    "    # Output layer\n",
    "    Z2 = self.H @ self.W2\n",
    "    self.O = self.out_activation(Z2)\n",
    "\n",
    "    return self.O\n",
    "  \n",
    "  def backwards(self, target):\n",
    "    \"\"\"\n",
    "    Compute back-propagation gradients\n",
    "    :param target: ground truth output \n",
    "    \"\"\"\n",
    "    dZ2 = target - self.O\n",
    "\n",
    "    # delta activation for output layer\n",
    "    if self.output_type != 'Linear':\n",
    "      dZ2 = dZ2 * self.out_activation_d(self.O)\n",
    "\n",
    "    # delta activation for hidden layer\n",
    "    dZ1 = (dZ2 @ self.W2.T) * self.activation_d(self.H)\n",
    "\n",
    "    # compute gradient of weights\n",
    "    self.dW1 = np.atleast_2d(self.I).T @ np.atleast_2d(dZ1)\n",
    "    self.dW2 = np.atleast_2d(self.H).T @ np.atleast_2d(dZ2)\n",
    "  \n",
    "  def update_weights(self):\n",
    "    \"\"\"\n",
    "    update weights using gradient descent\n",
    "    \"\"\"\n",
    "    self.W1 += self.learning_rate * self.dW1\n",
    "    self.W2 += self.learning_rate * self.dW2 \n",
    "    self.dW1 = np.zeros((self.W1.shape))\n",
    "    self.dW2 = np.zeros((self.W2.shape))\n",
    "\n",
    "  def fit(self, X, Y):\n",
    "    \"\"\"\n",
    "    Optimise model parameters by performing gradient descent\n",
    "    :param X: n data samples \n",
    "    :param Y: ground truth label vector of size (n, n_y)\n",
    "    :return:\n",
    "    error_log: list of loss values for every 100 updates\n",
    "    \"\"\"\n",
    "    error_log = []\n",
    "    for i in range (1, self.epochs):\n",
    "      error = 0\n",
    "      for j, row in enumerate(X):\n",
    "        self.forward(row) # feed forward inputs to output\n",
    "        error += self.loss_func(self.O, Y[j])#/(len(Y[j])) # calculate loss\n",
    "        self.backwards(Y[j]) # back prop\n",
    "        self.update_weights() \n",
    "      \n",
    "      if (i % 100 == 0):\n",
    "        error = error / Y.shape[0]\n",
    "        error_log.append(error.item())\n",
    "        if self.verbose:\n",
    "            print(\"Error after {} epochs: {:.3f}\".format(i, error))\n",
    "\n",
    "    return error_log\n",
    "\n",
    "  def predict(self, X):\n",
    "    \"\"\"\n",
    "    Predict class label using model parameters\n",
    "    :param X: n data samples, shape (n, n_x)\n",
    "    :returns: vector with class predictions for examples in X, shape (n, n_y)\n",
    "    \"\"\"\n",
    "    Y_hat = list()\n",
    "\n",
    "    for i, row in enumerate(X):\n",
    "      predicted_output = self.forward(row)\n",
    "\n",
    "      if self.n_o > 1:\n",
    "        np_output = np.zeros(self.n_o) # 0 numpy array - no letter has been assigned\n",
    "        np_output[np.argmax(predicted_output)] = 1 # assign 1 to the corresponding index\n",
    "        Y_hat.append(np_output)\n",
    "      else:\n",
    "        Y_hat.append(predicted_output)\n",
    "    \n",
    "    return np.array(Y_hat)\n",
    "\n",
    "  def model(self, X_train, Y_train, X_test, Y_test):\n",
    "    \"\"\"\n",
    "    train and evaluate the layer model\n",
    "    :param X_train: training set a numpy array of shape (n_train, n_i)\n",
    "    :param Y_train: training groud truth vector of size (n_train, n_o)\n",
    "    :param X_test: testing set a numpy array of shape (n_test, n_i)\n",
    "    :param Y_test: testing groud truth vector of size (n_test, n_o)\n",
    "\n",
    "    :return:\n",
    "    model -- dictionary\n",
    "        ERROR -- log of training loss\n",
    "        ACC -- array with training and testing accuracies\n",
    "        LR -- learning rate\n",
    "        Y_hat_test - predicted output array\n",
    "    \"\"\"\n",
    "    error_log = self.fit(X_train, Y_train)\n",
    "    Y_hat_train = self.predict(X_train)\n",
    "    Y_hat_test = self.predict(X_test)\n",
    "    test_acc = train_acc = 0\n",
    "\n",
    "    # calculate train and test accuracy\n",
    "    if self.n_o > 1: \n",
    "      for i, _ in enumerate(Y_train):\n",
    "          if np.argmax(Y_hat_train[i]) == np.argmax(Y_train[i]):\n",
    "              train_acc += 1.\n",
    "      for i, row in enumerate(Y_test):\n",
    "          if np.argmax(Y_hat_test[i]) == np.argmax(Y_test[i]):\n",
    "              test_acc += 1.\n",
    "      \n",
    "      train_acc = (train_acc / len(Y_train)) * 100\n",
    "      test_acc = (test_acc / len(Y_test)) * 100\n",
    "    else:\n",
    "      train_acc = (100 - np.mean(np.abs(Y_hat_train - Y_train)) * 100)\n",
    "      test_acc = (100 - np.mean(np.abs(Y_hat_test - Y_test)) * 100)\n",
    "\n",
    "    print(\"{:.1f}% training acc.\".format(train_acc))\n",
    "    print(\"{:.1f}% test acc.\".format(test_acc))\n",
    "\n",
    "    return {\"ERROR\": error_log, \"ACC\": [train_acc, test_acc], \"LR\": self.learning_rate, \"Y_hat_test\": Y_hat_test}\n",
    "        "
   ]
  },
  {
   "cell_type": "markdown",
   "metadata": {
    "colab_type": "text",
    "id": "LNNRpByFBXSW"
   },
   "source": [
    "# Part 1: XOR Function\n",
    "\n",
    "[0, 0] = 0 <br>\n",
    "[0, 1] = 1<br>\n",
    "[1, 0] = 1<br>\n",
    "[1, 1] = 0<br>"
   ]
  },
  {
   "cell_type": "markdown",
   "metadata": {
    "colab_type": "text",
    "id": "C8T09fUGBZbK"
   },
   "source": [
    "## `Create XOR training and test dataset`"
   ]
  },
  {
   "cell_type": "code",
   "execution_count": 0,
   "metadata": {
    "colab": {},
    "colab_type": "code",
    "id": "Hu7u-c5at6RF"
   },
   "outputs": [],
   "source": [
    "def xor_dataset():\n",
    "    \"\"\"\n",
    "    Represents XOR function\n",
    "\n",
    "    :return:\n",
    "    X_train/X_test: 2 inputs per output (size 4 and 4 respectively)\n",
    "    Y_train/Y_test: 1 output per 2 inputs (size 4 and 4 respectively)\n",
    "    n_h: number of units in the hidden layer\n",
    "    \"\"\"\n",
    "    X_train = np.array([[0, 0], [0, 1], [1, 0], [1, 1]])\n",
    "    Y_train = np.array([[0], [1], [1], [0]])\n",
    "    X_test = np.array([[0, 1], [0, 0], [1, 1], [0, 1]])\n",
    "    Y_test = np.array([[1], [0], [0], [1]])\n",
    "    n_h = 4\n",
    "    return (X_train, Y_train), (X_test, Y_test), n_h"
   ]
  },
  {
   "cell_type": "markdown",
   "metadata": {
    "colab_type": "text",
    "id": "pKUmhHqdBf-9"
   },
   "source": [
    "## `Load and setup model`"
   ]
  },
  {
   "cell_type": "code",
   "execution_count": 86,
   "metadata": {
    "colab": {
     "base_uri": "https://localhost:8080/",
     "height": 958
    },
    "colab_type": "code",
    "id": "CbNesBHat8PT",
    "outputId": "65c432bb-99e2-4cae-db05-0ffca67a1ae3"
   },
   "outputs": [
    {
     "name": "stdout",
     "output_type": "stream",
     "text": [
      "========================================\n",
      "X Train shape:   (4, 2) | Y Train shape:   (4, 1) \n",
      "X Test shape:    (4, 2) | Y Test shape:    (4, 1)\n",
      "========================================\n",
      "Error after 100 epochs: 0.003\n",
      "Error after 200 epochs: 0.001\n",
      "Error after 300 epochs: 0.001\n",
      "Error after 400 epochs: 0.000\n",
      "Error after 500 epochs: 0.000\n",
      "Error after 600 epochs: 0.000\n",
      "Error after 700 epochs: 0.000\n",
      "Error after 800 epochs: 0.000\n",
      "Error after 900 epochs: 0.000\n",
      "Error after 1000 epochs: 0.000\n",
      "Error after 1100 epochs: 0.000\n",
      "Error after 1200 epochs: 0.000\n",
      "Error after 1300 epochs: 0.000\n",
      "Error after 1400 epochs: 0.000\n",
      "Error after 1500 epochs: 0.000\n",
      "Error after 1600 epochs: 0.000\n",
      "Error after 1700 epochs: 0.000\n",
      "Error after 1800 epochs: 0.000\n",
      "Error after 1900 epochs: 0.000\n",
      "Error after 2000 epochs: 0.000\n",
      "Error after 2100 epochs: 0.000\n",
      "Error after 2200 epochs: 0.000\n",
      "Error after 2300 epochs: 0.000\n",
      "Error after 2400 epochs: 0.000\n",
      "Error after 2500 epochs: 0.000\n",
      "Error after 2600 epochs: 0.000\n",
      "Error after 2700 epochs: 0.000\n",
      "Error after 2800 epochs: 0.000\n",
      "Error after 2900 epochs: 0.000\n",
      "99.1% training acc.\n",
      "99.1% test acc.\n",
      "\n",
      "\n",
      " =============== Test various iterations ===============\n",
      "XOR with 4 hidden units\n",
      "98.9% training acc.\n",
      "98.8% test acc.\n",
      "XOR with 8 hidden units\n",
      "98.8% training acc.\n",
      "98.8% test acc.\n",
      "XOR with 16 hidden units\n",
      "99.0% training acc.\n",
      "99.0% test acc.\n",
      "XOR with 32 hidden units\n",
      "99.0% training acc.\n",
      "99.0% test acc.\n",
      "XOR with 64 hidden units\n",
      "99.1% training acc.\n",
      "99.1% test acc.\n",
      "XOR with 128 hidden units\n",
      "74.6% training acc.\n",
      "49.8% test acc.\n"
     ]
    }
   ],
   "source": [
    "(X_train, Y_train), (X_test, Y_test), NH = xor_dataset()\n",
    "print('=='* 20)\n",
    "print('X Train shape: %8s | Y Train shape: %8s ' % (X_train.shape, Y_train.shape))\n",
    "print('X Test shape:  %8s | Y Test shape:  %8s' %(X_test.shape, Y_test.shape))\n",
    "print('=='* 20)\n",
    "np.random.seed(2020)\n",
    "xor_mlp = MLP(2, 64, 1, epochs=3000, learning_rate=0.5, \n",
    "              activation='Tanh', output_activation='Sigmoid', verbose=True)\n",
    "model = xor_mlp.model(X_train, Y_train, X_test, Y_test)\n",
    "\n",
    "print(\"\\n\\n =============== Test various iterations ===============\")\n",
    "for i, hidden_units in enumerate([4, 8, 16, 32, 64, 128]):\n",
    "    np.random.seed(2020)\n",
    "    print(\"XOR with {} hidden units\".format(hidden_units))\n",
    "    test = MLP(2, hidden_units, 1, epochs=3000, learning_rate=0.5, \n",
    "              activation='Tanh', output_activation='Sigmoid', verbose=False)\n",
    "    test_model = test.model(X_train, Y_train, X_test, Y_test)"
   ]
  },
  {
   "cell_type": "markdown",
   "metadata": {
    "colab_type": "text",
    "id": "XwqfxZeoBu4M"
   },
   "source": [
    "## `Display tabulated data & error graph`"
   ]
  },
  {
   "cell_type": "code",
   "execution_count": 87,
   "metadata": {
    "colab": {
     "base_uri": "https://localhost:8080/",
     "height": 413
    },
    "colab_type": "code",
    "id": "oLDe17bhuDGz",
    "outputId": "99841a3c-c6a5-471f-9f4b-f2d01ba70e0a"
   },
   "outputs": [
    {
     "name": "stdout",
     "output_type": "stream",
     "text": [
      "==============================  XOR Table  ==============================\n",
      "Input: [0 1] | expected: [1] | prediction: [0.99046413] | accuracy: 99.0%\n",
      "Input: [0 0] | expected: [0] | prediction: [0.00811682] | accuracy: 99.2%\n",
      "Input: [1 1] | expected: [0] | prediction: [0.01007462] | accuracy: 99.0%\n",
      "Input: [0 1] | expected: [1] | prediction: [0.99046413] | accuracy: 99.0%\n",
      "\n",
      "\n"
     ]
    },
    {
     "data": {
      "image/png": "[encoded data removed]",
      "text/plain": [
       "<Figure size 432x288 with 1 Axes>"
      ]
     },
     "metadata": {
      "needs_background": "light",
      "tags": []
     },
     "output_type": "display_data"
    }
   ],
   "source": [
    "# Grab model's cached data\n",
    "Y_hat_test = model['Y_hat_test']\n",
    "ACC = model['ACC']\n",
    "\n",
    "# Display Tabulated results\n",
    "print(\"==\" * 15 + \"  XOR Table  \" + \"==\" * 15)\n",
    "for i, row in enumerate(Y_test):\n",
    "    test_acc = (100 - np.mean(np.abs(Y_hat_test[i] - Y_test[i])) * 100)\n",
    "    print(\"Input: {} | expected: {} | prediction: {} | accuracy: {:.1f}%\".format(X_test[i], row, Y_hat_test[i], test_acc))\n",
    "\n",
    "print('\\n')\n",
    "plt.plot(model['ERROR'])\n",
    "plt.ylabel('error')\n",
    "plt.xlabel('epochs (x100)')\n",
    "plt.title(\"Error rate at each epoch (x100) at a Learning rate = {}\".format(model['LR']))\n",
    "plt.show()"
   ]
  },
  {
   "cell_type": "markdown",
   "metadata": {
    "colab_type": "text",
    "id": "ICcjwI3KGCYI"
   },
   "source": [
    "# Part 2: Sin Function"
   ]
  },
  {
   "cell_type": "markdown",
   "metadata": {
    "colab_type": "text",
    "id": "Nk2x7JukGDfh"
   },
   "source": [
    "## `Create sin training and test dataset`\n",
    "\n",
    "200 vectors, 4 components each. Each component is randomly initialized between -1 and 1. \n",
    "\n",
    "Input: [x1, x2, x3, x4] <br>\n",
    "Output: sin(x1-x2+x3-x4)"
   ]
  },
  {
   "cell_type": "code",
   "execution_count": 0,
   "metadata": {
    "colab": {},
    "colab_type": "code",
    "id": "sp2LWHdQA8Lc"
   },
   "outputs": [],
   "source": [
    "def sin_dataset():\n",
    "  \"\"\"\n",
    "  Represents sin(x1 - x2 + x3 - x4) function\n",
    "\n",
    "  :return:\n",
    "  X_train/X_test: 4 inputs per output (size 150 and 50 respectively)\n",
    "  Y_train/Y_test: 1 output per 4 inputs (size 150 and 50 respectively)\n",
    "  n_h: number of units in the hidden layer\n",
    "  \"\"\"\n",
    "  X_train = np.random.uniform(-1, 1, size=(150, 4))  # vectors in range [-1, 1]\n",
    "  Y_train = []\n",
    "\n",
    "  for row in X_train:\n",
    "      Y_train.append([np.sin(row[0] - row[1] + row[2] - row[3])])\n",
    "\n",
    "  X_test = np.random.uniform(-1, 1, size=(50, 4))\n",
    "  Y_test = []\n",
    "  for row in X_test:\n",
    "      Y_test.append([np.sin(row[0] - row[1] + row[2] - row[3])])\n",
    "\n",
    "  n_h = 10\n",
    "  return (X_train, np.array(Y_train)), (X_test, np.array(Y_test)), n_h"
   ]
  },
  {
   "cell_type": "markdown",
   "metadata": {
    "colab_type": "text",
    "id": "rIdRqPeIGJKh"
   },
   "source": [
    "## `Load and setup model`\n"
   ]
  },
  {
   "cell_type": "code",
   "execution_count": 93,
   "metadata": {
    "colab": {
     "base_uri": "https://localhost:8080/",
     "height": 622
    },
    "colab_type": "code",
    "id": "I8M58_fKGGuw",
    "outputId": "965d977e-4970-4479-def6-1aa712fcc31f"
   },
   "outputs": [
    {
     "name": "stdout",
     "output_type": "stream",
     "text": [
      "========================================\n",
      "X Train shape: (150, 4) | Y Train shape: (150, 1) \n",
      "X Test shape:   (50, 4) | Y Test shape:   (50, 1)\n",
      "========================================\n",
      "Error after 100 epochs: 0.005\n",
      "Error after 200 epochs: 0.004\n",
      "Error after 300 epochs: 0.001\n",
      "Error after 400 epochs: 0.000\n",
      "Error after 500 epochs: 0.000\n",
      "Error after 600 epochs: 0.000\n",
      "Error after 700 epochs: 0.000\n",
      "Error after 800 epochs: 0.000\n",
      "Error after 900 epochs: 0.000\n",
      "Error after 1000 epochs: 0.000\n",
      "Error after 1100 epochs: 0.000\n",
      "Error after 1200 epochs: 0.000\n",
      "99.8% training acc.\n",
      "99.8% test acc.\n",
      "\n",
      "\n",
      " =============== Test various iterations ===============\n",
      "XOR with 5 hidden units\n",
      "99.8% training acc.\n",
      "99.8% test acc.\n",
      "XOR with 6 hidden units\n",
      "99.8% training acc.\n",
      "99.7% test acc.\n",
      "XOR with 7 hidden units\n",
      "99.8% training acc.\n",
      "99.8% test acc.\n",
      "XOR with 8 hidden units\n",
      "99.6% training acc.\n",
      "99.5% test acc.\n",
      "XOR with 9 hidden units\n",
      "99.5% training acc.\n",
      "99.5% test acc.\n"
     ]
    }
   ],
   "source": [
    "(X_train, Y_train), (X_test, Y_test), n_h = sin_dataset()\n",
    "print('=='* 20)\n",
    "print('X Train shape: %8s | Y Train shape: %8s ' % (X_train.shape, Y_train.shape))\n",
    "print('X Test shape:  %8s | Y Test shape:  %8s' %(X_test.shape, Y_test.shape))\n",
    "print('=='* 20)\n",
    "\n",
    "np.random.seed(2020)\n",
    "mlp_sin_model = MLP(4, 5, 1, learning_rate=0.1, epochs=1300, \n",
    "                    activation='Tanh', output_activation='Linear', verbose=True)\n",
    "sin_model_results = mlp_sin_model.model(X_train, Y_train, X_test, Y_test)\n",
    "\n",
    "print(\"\\n\\n =============== Test various iterations ===============\")\n",
    "for i, hidden_units in enumerate([5, 6, 7, 8, 9]):\n",
    "    np.random.seed(2020)\n",
    "    print(\"XOR with {} hidden units\".format(hidden_units))\n",
    "    test = MLP(4, hidden_units, 1, epochs=1300, learning_rate=0.1, \n",
    "              activation='Tanh', output_activation='Linear', verbose=False)\n",
    "    test_model = test.model(X_train, Y_train, X_test, Y_test)"
   ]
  },
  {
   "cell_type": "markdown",
   "metadata": {
    "colab_type": "text",
    "id": "MYsAGF5HGhAD"
   },
   "source": [
    "## `Display graph of epochs against error`"
   ]
  },
  {
   "cell_type": "code",
   "execution_count": 94,
   "metadata": {
    "colab": {
     "base_uri": "https://localhost:8080/",
     "height": 295
    },
    "colab_type": "code",
    "id": "ZWPNVypHGOR8",
    "outputId": "a810ab07-456a-4743-f853-1fcc7a822a25"
   },
   "outputs": [
    {
     "data": {
      "image/png": "[encoded data removed]",
      "text/plain": [
       "<Figure size 432x288 with 1 Axes>"
      ]
     },
     "metadata": {
      "needs_background": "light",
      "tags": []
     },
     "output_type": "display_data"
    }
   ],
   "source": [
    "plt.plot(sin_model_results['ERROR'])\n",
    "plt.ylabel('error')\n",
    "plt.xlabel('epochs (x100)')\n",
    "plt.title(\"Error rate at each epoch (x100) at a Learning rate = {}\".format(sin_model_results['LR']))\n",
    "plt.show()"
   ]
  },
  {
   "cell_type": "markdown",
   "metadata": {
    "colab_type": "text",
    "id": "8UPCtO70Gkky"
   },
   "source": [
    "## `Display tabulated data of expected and predictions`"
   ]
  },
  {
   "cell_type": "code",
   "execution_count": 95,
   "metadata": {
    "colab": {
     "base_uri": "https://localhost:8080/",
     "height": 894
    },
    "colab_type": "code",
    "id": "-eYvmW7yGl7E",
    "outputId": "2b32616e-9d56-4a83-ae48-a8ad5485a8e6"
   },
   "outputs": [
    {
     "name": "stdout",
     "output_type": "stream",
     "text": [
      "==================================  Sin Expected & Predicted Table  ==================================\n",
      "Input:  [-0.65478525  0.77369641 -0.26015498 -0.67209955] | expected: -0.85029 | prediction: -0.84978\n",
      "Input:      [0.42961669 0.53903703 0.08423118 0.34574127] | expected: -0.36248 | prediction: -0.35888\n",
      "Input:  [-0.51949023  0.77572813 -0.24658563 -0.8432137 ] | expected: -0.64314 | prediction: -0.64417\n",
      "Input:  [-0.71167363 -0.60956959 -0.64982357  0.8386954 ] | expected: -0.99980 | prediction: -0.99738\n",
      "Input:  [-0.60252347 -0.92436846 -0.06963475 -0.23952019] | expected:  0.47215 | prediction:  0.46857\n",
      "Input:  [ 0.14801154  0.65404526 -0.51314082  0.78448075] | expected: -0.97301 | prediction: -0.97021\n",
      "Input:  [-0.88770678  0.88591471 -0.90947856 -0.57835335] | expected: -0.86080 | prediction: -0.86439\n",
      "Input:  [ 0.85492474  0.96147255 -0.38760103  0.23844235] | expected: -0.66880 | prediction: -0.67189\n",
      "Input:  [-0.32618004 -0.80898763  0.3341625   0.2947731 ] | expected:  0.49879 | prediction:  0.49794\n",
      "Input:  [-0.27283515  0.76274757 -0.05892308 -0.34566753] | expected: -0.68079 | prediction: -0.67981\n",
      "Input:  [ 0.59900031 -0.31817819  0.31518524 -0.32268375] | expected:  0.99988 | prediction:  0.99811\n",
      "Input:  [-0.41028366 -0.6749682   0.53666625 -0.73675713] | expected:  0.99947 | prediction:  1.00039\n",
      "Input:  [ 0.29776735 -0.96562559 -0.00323836  0.11986497] | expected:  0.90875 | prediction:  0.90570\n",
      "Input:  [-0.79979259  0.28045569 -0.59917632  0.29905459] | expected: -0.91804 | prediction: -0.91493\n",
      "Input:  [ 0.23228477 -0.62773631 -0.21349754  0.25904179] | expected:  0.37786 | prediction:  0.37810\n",
      "Input:  [-0.84840732  0.82377515  0.6652548   0.78133589] | expected: -0.97645 | prediction: -0.97583\n",
      "Input:  [-0.54673089 -0.83678691  0.62496528  0.98386555] | expected: -0.06879 | prediction: -0.06808\n",
      "Input:  [ 0.43515616 -0.25013493 -0.29829391  0.99622619] | expected: -0.57224 | prediction: -0.56915\n",
      "Input:  [-0.84532012 -0.19144055  0.5928096  -0.01801832] | expected: -0.04304 | prediction: -0.04600\n",
      "Input:  [ 0.22695615 -0.67001929 -0.3799497  -0.24409407] | expected:  0.68973 | prediction:  0.68781\n",
      "Input:  [ 0.79837019  0.49860091 -0.091159   -0.82518334] | expected:  0.85925 | prediction:  0.85370\n",
      "Input:  [ 0.41135716 -0.94141667 -0.21179081 -0.24823509] | expected:  0.98356 | prediction:  0.98075\n",
      "Input:  [ 0.78785586  0.37671295 -0.10947126 -0.73588768] | expected:  0.86117 | prediction:  0.85607\n",
      "Input:  [ 0.62910198  0.35399085 -0.25377916 -0.80092362] | expected:  0.73268 | prediction:  0.72835\n",
      "Input:  [ 0.15112323 -0.27524886 -0.96600331 -0.49691426] | expected: -0.04270 | prediction: -0.04536\n",
      "Input:  [ 0.75661295 -0.69500023 -0.40196536 -0.45585009] | expected:  0.99787 | prediction:  0.99588\n",
      "Input:  [-0.7076811   0.2804915  -0.78426675 -0.72212835] | expected: -0.86758 | prediction: -0.86856\n",
      "Input:      [0.43802937 0.60685107 0.26841973 0.74209815] | expected: -0.59920 | prediction: -0.59537\n",
      "Input:  [-0.47611834  0.38869371  0.64454045  0.64207869] | expected: -0.75937 | prediction: -0.75910\n",
      "Input:  [-0.40201828 -0.00777948  0.29136364 -0.50556543] | expected:  0.39189 | prediction:  0.39016\n",
      "Input:  [ 0.15275495  0.25552818 -0.18299488  0.74745365] | expected: -0.85895 | prediction: -0.85503\n",
      "Input:  [ 0.48405735  0.26375723  0.32833572 -0.26562248] | expected:  0.72722 | prediction:  0.72501\n",
      "Input:  [ 0.53427351 -0.68012451  0.04745839  0.85749351] | expected:  0.39343 | prediction:  0.39451\n",
      "Input:  [ 0.80507024 -0.72587782 -0.09897518  0.38159903] | expected:  0.86761 | prediction:  0.86473\n",
      "Input:      [0.22484674 0.84609691 0.84167017 0.47067573] | expected: -0.24765 | prediction: -0.24469\n",
      "Input:  [ 0.51026664 -0.89060366  0.65595853  0.4922653 ] | expected:  0.99998 | prediction:  1.00208\n",
      "Input:  [ 0.02087475 -0.74300831 -0.74696583  0.60503439] | expected: -0.55480 | prediction: -0.55382\n",
      "Input:      [0.39683556 0.35118683 0.2717502  0.81583792] | expected: -0.47806 | prediction: -0.47486\n",
      "Input:  [-0.66142305 -0.91902092 -0.73634084  0.12644265] | expected: -0.56891 | prediction: -0.57134\n",
      "Input:  [-0.66035634 -0.66536618 -0.40579597 -0.44014124] | expected:  0.03934 | prediction:  0.03580\n",
      "Input:  [ 0.07892466  0.50903522 -0.51334497 -0.65507201] | expected: -0.28440 | prediction: -0.28633\n",
      "Input:  [ 0.30555404 -0.47196691 -0.49685496 -0.23348346] | expected:  0.49179 | prediction:  0.49157\n",
      "Input:  [-0.16564133 -0.66796365 -0.33317924  0.4135314 ] | expected: -0.24196 | prediction: -0.24330\n",
      "Input:  [-0.9670995   0.46018284  0.58070254 -0.68045811] | expected: -0.16536 | prediction: -0.16888\n",
      "Input:  [-0.88362662  0.01730289  0.03972349 -0.88126151] | expected:  0.02005 | prediction:  0.01659\n",
      "Input:  [-0.65925241  0.89757125  0.88837476  0.46235051] | expected: -0.90475 | prediction: -0.90346\n",
      "Input:  [ 0.73130576 -0.02039164 -0.59494399 -0.66716759] | expected:  0.73382 | prediction:  0.72826\n",
      "Input:  [-0.73554886  0.48137896  0.69403738  0.37604384] | expected: -0.78266 | prediction: -0.78305\n",
      "Input:  [-0.26287358  0.75744069 -0.69352856 -0.49639871] | expected: -0.93822 | prediction: -0.94222\n",
      "Input:  [ 0.92761342  0.96553929 -0.12710946 -0.22203881] | expected:  0.05697 | prediction:  0.05899\n"
     ]
    }
   ],
   "source": [
    "print(\"==\" * 17 + \"  Sin Expected & Predicted Table  \" + \"==\" * 17)\n",
    "Y_hat_test = sin_model_results['Y_hat_test']\n",
    "for i, row in enumerate(Y_test):\n",
    "    print(\"Input: %50s | expected: %8.5f | prediction: %8.5f\" % (str(X_test[i]), row, Y_hat_test[i]))"
   ]
  },
  {
   "cell_type": "markdown",
   "metadata": {
    "colab_type": "text",
    "id": "EdaKonF0ImjS"
   },
   "source": [
    "## `Display graph of expected vs test output`"
   ]
  },
  {
   "cell_type": "code",
   "execution_count": 96,
   "metadata": {
    "colab": {
     "base_uri": "https://localhost:8080/",
     "height": 295
    },
    "colab_type": "code",
    "id": "_Rb9nEoRIWSd",
    "outputId": "c0b14b2c-37c1-4557-ef16-8d95a263b692"
   },
   "outputs": [
    {
     "data": {
      "image/png": "[encoded data removed]",
      "text/plain": [
       "<Figure size 432x288 with 1 Axes>"
      ]
     },
     "metadata": {
      "needs_background": "light",
      "tags": []
     },
     "output_type": "display_data"
    }
   ],
   "source": [
    "plt.figure(figsize=(6, 4))\n",
    "x_test_plot = list(map(lambda a: a[0] - a[1] + a[2] - a[3], X_test))\n",
    "plt.plot(x_test_plot, Y_test, 'g^', x_test_plot, Y_hat_test, 'ro')\n",
    "plt.ylabel('y-axis')\n",
    "plt.xlabel('x-axis')\n",
    "plt.legend(('Test set', 'Prediction'))\n",
    "plt.title('Dot plot of the predicted sin function (red dots)')\n",
    "plt.show()"
   ]
  },
  {
   "cell_type": "markdown",
   "metadata": {
    "colab_type": "text",
    "id": "OBrfp1NALoGZ"
   },
   "source": [
    "# Part 3: Letter Recognition"
   ]
  },
  {
   "cell_type": "markdown",
   "metadata": {
    "colab_type": "text",
    "id": "EQH6hAPOLp5C"
   },
   "source": [
    "## `Load letter recognition dataset and split with 0.8 ratio`\n",
    "\n",
    "The dataset holds 20,000 rows of data\n",
    "\n",
    "The training set holds 16,000.\n",
    "The test set holds 4,000.\n",
    "\n",
    "Also, one hot encode the output labels"
   ]
  },
  {
   "cell_type": "code",
   "execution_count": 98,
   "metadata": {
    "colab": {
     "base_uri": "https://localhost:8080/",
     "height": 84
    },
    "colab_type": "code",
    "id": "MhedYhvRIr0W",
    "outputId": "448667c4-be08-4cd7-b0df-34d209e707c0"
   },
   "outputs": [
    {
     "name": "stdout",
     "output_type": "stream",
     "text": [
      "========================================\n",
      "X Train shape: (16000, 16) | Y Train shape: (16000,) \n",
      "X Test shape:  (4000, 16) | Y Test shape:   (4000,)\n",
      "========================================\n"
     ]
    }
   ],
   "source": [
    "def letter_recognition_dataset():\n",
    "  \"\"\"\n",
    "  Load the letter recognition dataset and split it with a 0.8 ratio\n",
    "  \"\"\"\n",
    "  data_set = list()\n",
    "\n",
    "  # Read data from csv\n",
    "  with open('./letter-recognition.csv', 'r') as data_file:\n",
    "      reader = csv.reader(data_file)\n",
    "      for row in reader:\n",
    "          row[0] = ord(row[0]) - ord('A')  # character to number value\n",
    "          for i in range(1, len(row)):  # convert number strings to numbers\n",
    "              row[i] = int(row[i])\n",
    "\n",
    "          data_set.append(row)\n",
    "\n",
    "  # Split data_set into 0.8 training set and 0.2 test set\n",
    "  training_ratio = 0.8\n",
    "  training_record_size = int(len(data_set) * 0.8)\n",
    "  training_set = np.array(data_set[:training_record_size])\n",
    "  test_set = np.array(data_set[training_record_size:])\n",
    "\n",
    "  X_train = training_set[:, 1:]\n",
    "  Y_train = training_set[:, 0]\n",
    "  X_test = test_set[:, 1:]\n",
    "  Y_test = test_set[:, 0]\n",
    "\n",
    "  # Normalize, as the 16 numerical values were scaled to fit between 0 and 15\n",
    "  X_train = X_train / 15  \n",
    "  X_test = X_test / 15\n",
    "\n",
    "  n_h = 30\n",
    "  n_y = 26\n",
    "\n",
    "  # one hot encoding - Find which letter is set for each training row \n",
    "  Y_train_letter = np.zeros((len(Y_train), n_y))\n",
    "  for i, l in enumerate(Y_train):\n",
    "      Y_train_letter[i][l] = 1\n",
    "\n",
    "  Y_test_letter = np.zeros((len(Y_test), n_y))\n",
    "  for i, l in enumerate(Y_test):\n",
    "      Y_test_letter[i][l] = 1\n",
    "\n",
    "  return (X_train, Y_train, Y_train_letter), (X_test, Y_test, Y_test_letter), n_h\n",
    "\n",
    "(X_train, Y_train, Y_train_letter), (X_test, Y_test, Y_test_letter), n_h = letter_recognition_dataset()  \n",
    "print('=='* 20)\n",
    "print('X Train shape: %8s | Y Train shape: %8s ' % (X_train.shape, Y_train.shape))\n",
    "print('X Test shape:  %8s | Y Test shape:  %8s' %(X_test.shape, Y_test.shape))\n",
    "print('=='* 20)"
   ]
  },
  {
   "cell_type": "markdown",
   "metadata": {
    "colab_type": "text",
    "id": "1JMskHULMs0p"
   },
   "source": [
    "## `Setup letter recognition model`"
   ]
  },
  {
   "cell_type": "code",
   "execution_count": 0,
   "metadata": {
    "colab": {
     "base_uri": "https://localhost:8080/",
     "height": 319
    },
    "colab_type": "code",
    "id": "nvFFT_0pMnI4",
    "outputId": "7adf19b9-7a69-470c-9514-de04a372f461"
   },
   "outputs": [
    {
     "name": "stdout",
     "output_type": "stream",
     "text": [
      "Error after 100 epochs: 0.747\n",
      "Error after 200 epochs: 0.698\n",
      "Error after 300 epochs: 0.944\n",
      "Error after 400 epochs: 0.851\n",
      "Error after 500 epochs: 0.793\n",
      "Error after 600 epochs: 0.754\n",
      "Error after 700 epochs: 0.992\n",
      "Error after 800 epochs: 0.896\n",
      "Error after 900 epochs: 0.886\n",
      "81.9% training acc.\n",
      "79.5% test acc.\n",
      "\n",
      "\n",
      " =============== Test various iterations ===============\n",
      "XOR with 10 hidden units\n",
      "0.0% training acc.\n",
      "0.0% test acc.\n",
      "XOR with 20 hidden units\n"
     ]
    }
   ],
   "source": [
    "recog_mlp = MLP(16, n_h, 26, epochs=1000, learning_rate=0.1, activation='Tanh', output_activation='Softmax', verbose=True)\n",
    "model = recog_mlp.model(X_train, Y_train_letter, X_test, Y_test_letter)\n",
    "\n",
    "print(\"\\n\\n =============== Test various iterations ===============\")\n",
    "for i, hidden_units in enumerate([10, 20, 30]):\n",
    "    np.random.seed(2020)\n",
    "    print(\"XOR with {} hidden units\".format(hidden_units))\n",
    "    test = MLP(16, hidden_units, 26, epochs=1000, learning_rate=0.1, activation='Tanh', output_activation='Softmax', verbose=False)\n",
    "    test_model = test.model(X_train, Y_train, X_test, Y_test)"
   ]
  },
  {
   "cell_type": "markdown",
   "metadata": {
    "colab_type": "text",
    "id": "UqTVaENAFRlM"
   },
   "source": [
    "## `Display graph of epochs against error`\n",
    "\n"
   ]
  },
  {
   "cell_type": "code",
   "execution_count": 54,
   "metadata": {
    "colab": {
     "base_uri": "https://localhost:8080/",
     "height": 295
    },
    "colab_type": "code",
    "id": "a816xokTMxcG",
    "outputId": "ed73e7c7-fec6-4567-ee4b-e583af81bef0"
   },
   "outputs": [
    {
     "data": {
      "image/png": "[encoded data removed]",
      "text/plain": [
       "<Figure size 432x288 with 1 Axes>"
      ]
     },
     "metadata": {
      "needs_background": "light",
      "tags": []
     },
     "output_type": "display_data"
    }
   ],
   "source": [
    "plt.plot(model['ERROR'])\n",
    "plt.ylabel('error')\n",
    "plt.xlabel('epochs (x100)')\n",
    "plt.title(\"Error rate at each epoch (x100) at a Learning rate = {}\".format(model['LR']))\n",
    "plt.show()"
   ]
  },
  {
   "cell_type": "markdown",
   "metadata": {
    "colab_type": "text",
    "id": "eALO_n-Jf_H3"
   },
   "source": [
    "## `Display tabulated data of expected and predicted output`"
   ]
  },
  {
   "cell_type": "code",
   "execution_count": 55,
   "metadata": {
    "colab": {
     "base_uri": "https://localhost:8080/",
     "height": 524
    },
    "colab_type": "code",
    "id": "vbyB86Evs5uS",
    "outputId": "bbcdb0dd-ec74-4cf7-a9c0-5b13602bf835"
   },
   "outputs": [
    {
     "name": "stdout",
     "output_type": "stream",
     "text": [
      "================================================================================\n",
      "Test Sample Size: 4000 | Correctly Predicted Sample Size: 3212 | Accuracy: 0.803\n",
      "================================================================================\n",
      "A => Test size:  156 | Predicted Size:  161 | Correctly Predicted Size:  133 | Accuracy: 0.853\n",
      "B => Test size:  136 | Predicted Size:  140 | Correctly Predicted Size:  105 | Accuracy: 0.772\n",
      "C => Test size:  142 | Predicted Size:  156 | Correctly Predicted Size:  120 | Accuracy: 0.845\n",
      "D => Test size:  167 | Predicted Size:  203 | Correctly Predicted Size:  146 | Accuracy: 0.874\n",
      "E => Test size:  152 | Predicted Size:  138 | Correctly Predicted Size:  111 | Accuracy: 0.730\n",
      "F => Test size:  153 | Predicted Size:  139 | Correctly Predicted Size:  118 | Accuracy: 0.771\n",
      "G => Test size:  164 | Predicted Size:  179 | Correctly Predicted Size:  124 | Accuracy: 0.756\n",
      "H => Test size:  151 | Predicted Size:   87 | Correctly Predicted Size:   75 | Accuracy: 0.497\n",
      "I => Test size:  165 | Predicted Size:  182 | Correctly Predicted Size:  142 | Accuracy: 0.861\n",
      "J => Test size:  148 | Predicted Size:  119 | Correctly Predicted Size:  114 | Accuracy: 0.770\n",
      "K => Test size:  146 | Predicted Size:  143 | Correctly Predicted Size:  109 | Accuracy: 0.747\n",
      "L => Test size:  157 | Predicted Size:  155 | Correctly Predicted Size:  131 | Accuracy: 0.834\n",
      "M => Test size:  144 | Predicted Size:  141 | Correctly Predicted Size:  132 | Accuracy: 0.917\n",
      "N => Test size:  166 | Predicted Size:  143 | Correctly Predicted Size:  134 | Accuracy: 0.807\n",
      "O => Test size:  139 | Predicted Size:  160 | Correctly Predicted Size:  109 | Accuracy: 0.784\n",
      "P => Test size:  168 | Predicted Size:  172 | Correctly Predicted Size:  147 | Accuracy: 0.875\n",
      "Q => Test size:  168 | Predicted Size:  215 | Correctly Predicted Size:  153 | Accuracy: 0.911\n",
      "R => Test size:  161 | Predicted Size:  222 | Correctly Predicted Size:  138 | Accuracy: 0.857\n",
      "S => Test size:  161 | Predicted Size:  139 | Correctly Predicted Size:  100 | Accuracy: 0.621\n",
      "T => Test size:  151 | Predicted Size:  141 | Correctly Predicted Size:  126 | Accuracy: 0.834\n",
      "U => Test size:  168 | Predicted Size:  139 | Correctly Predicted Size:  129 | Accuracy: 0.768\n",
      "V => Test size:  136 | Predicted Size:  149 | Correctly Predicted Size:  126 | Accuracy: 0.926\n",
      "W => Test size:  139 | Predicted Size:  132 | Correctly Predicted Size:  123 | Accuracy: 0.885\n",
      "X => Test size:  159 | Predicted Size:  160 | Correctly Predicted Size:  129 | Accuracy: 0.811\n",
      "Y => Test size:  145 | Predicted Size:  132 | Correctly Predicted Size:  113 | Accuracy: 0.779\n",
      "Z => Test size:  158 | Predicted Size:  153 | Correctly Predicted Size:  125 | Accuracy: 0.791\n"
     ]
    }
   ],
   "source": [
    "# Load cached model data\n",
    "Y_hat_test = model['Y_hat_test']\n",
    "\n",
    "# Create letter dictionary\n",
    "test_dictionary = {chr(i + 65): 0 for i in range(26)}\n",
    "prediction_dictionary = {chr(i + 65): 0 for i in range(26)}\n",
    "correct_dictionary = {chr(i + 65): 0 for i in range(26)}\n",
    "\n",
    "# Update dictionaries based on expected and predicted output\n",
    "for i, _ in enumerate(Y_test):\n",
    "    test_dictionary[chr(int(Y_test[i]) + ord('A'))] += 1\n",
    "    max_arg = np.argmax(Y_hat_test[i])\n",
    "    prediction_dictionary[chr(max_arg + 65)] += 1\n",
    "\n",
    "    if Y_test[i] == max_arg:\n",
    "      correct_dictionary[chr(max_arg + 65)] += 1\n",
    "\n",
    "print('==' * 40)\n",
    "print('Test Sample Size: %d | Correctly Predicted Sample Size: %d | Accuracy: %.3f' %\n",
    "      (len(Y_test), sum(correct_dictionary.values()), sum(correct_dictionary.values())/len(Y_test)))\n",
    "print('==' * 40)\n",
    "\n",
    "for key, value in test_dictionary.items():\n",
    "  print('%s => Test size: %4d | Predicted Size: %4d | Correctly Predicted Size: %4d | Accuracy: %.3f' %\n",
    "         (key, value, prediction_dictionary[key], correct_dictionary[key], correct_dictionary[key]/value))"
   ]
  },
  {
   "cell_type": "code",
   "execution_count": 0,
   "metadata": {
    "colab": {},
    "colab_type": "code",
    "id": "W3crZAzgAHVM"
   },
   "outputs": [],
   "source": []
  }
 ],
 "metadata": {
  "colab": {
   "name": "Finalized version.ipynb",
   "provenance": []
  },
  "kernelspec": {
   "display_name": "Python 3",
   "language": "python",
   "name": "python3"
  },
  "language_info": {
   "codemirror_mode": {
    "name": "ipython",
    "version": 3
   },
   "file_extension": ".py",
   "mimetype": "text/x-python",
   "name": "python",
   "nbconvert_exporter": "python",
   "pygments_lexer": "ipython3",
   "version": "3.7.6"
  }
 },
 "nbformat": 4,
 "nbformat_minor": 1
}
